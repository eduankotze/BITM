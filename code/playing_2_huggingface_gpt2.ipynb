{
 "cells": [
  {
   "cell_type": "markdown",
   "metadata": {},
   "source": [
    "# Understanding GPT-2 (\"next token prediction\")\n",
    "\n",
    "**2025/03/26**"
   ]
  },
  {
   "cell_type": "markdown",
   "metadata": {},
   "source": [
    "* <mark>**Download na: C:\\Users\\kotzeje\\.cache\\huggingface\\hub\\models--gpt2**</mark>"
   ]
  },
  {
   "cell_type": "markdown",
   "metadata": {},
   "source": [
    "* https://huggingface.co/openai-community/gpt2\n",
    "    * This is the smallest version of GPT-2, with 124M parameters.\n",
    "* https://huggingface.co/openai-community/gpt2-large\n",
    "    * GPT-2 Large is the 774M parameter version of GPT-2\n",
    "* https://huggingface.co/openai-community/gpt2-xl\n",
    "    * GPT-2 XL is the 1.5B parameter version of GPT-2\n",
    " \n",
    "****\n",
    "\n",
    " * https://huggingface.co/EleutherAI/gpt-neo-2.7B\n",
    "    * **GPT-Neo 2.7B is a transformer model designed using EleutherAI's replication of the GPT-3 architecture.**"
   ]
  },
  {
   "cell_type": "code",
   "execution_count": 1,
   "metadata": {},
   "outputs": [
    {
     "name": "stdout",
     "output_type": "stream",
     "text": [
      "2.2.2+cu121\n",
      "4.46.2\n"
     ]
    }
   ],
   "source": [
    "import torch\n",
    "print(torch.__version__)\n",
    "import transformers\n",
    "print(transformers.__version__)"
   ]
  },
  {
   "cell_type": "code",
   "execution_count": 2,
   "metadata": {},
   "outputs": [
    {
     "name": "stdout",
     "output_type": "stream",
     "text": [
      "Using device: cuda\n"
     ]
    }
   ],
   "source": [
    "device = torch.device('cuda' if torch.cuda.is_available() else 'cpu')\n",
    "print(f\"Using device: {device}\")"
   ]
  },
  {
   "cell_type": "markdown",
   "metadata": {},
   "source": [
    "## gpt/gpt-small"
   ]
  },
  {
   "cell_type": "code",
   "execution_count": 3,
   "metadata": {},
   "outputs": [],
   "source": [
    "from transformers import GPT2LMHeadModel, GPT2Tokenizer\n",
    "\n",
    "# Load pre-trained GPT-2 model and tokenizer\n",
    "# You can use \"gpt2-medium\", \"gpt2-large\", \"gpt2-xl\" for larger models\n",
    "model_name = \"gpt2\"  \n",
    "\n",
    "model_name = r\"D:\\Data\\huggingface\\models\\openai-community\\openai-gpt2-small\"\n",
    "tokenizer = GPT2Tokenizer.from_pretrained(model_name)\n",
    "model = GPT2LMHeadModel.from_pretrained(model_name).to(device)\n",
    "model.eval();"
   ]
  },
  {
   "cell_type": "markdown",
   "metadata": {},
   "source": [
    "In PyTorch, `model.eval()` is a method that switches a neural network model (like GPT-2 in your code) to evaluation mode. This doesn't change the model's weights or structure but `adjusts how certain layers behave during inference (prediction) compared to training`. "
   ]
  },
  {
   "cell_type": "code",
   "execution_count": 4,
   "metadata": {},
   "outputs": [
    {
     "name": "stdout",
     "output_type": "stream",
     "text": [
      "Model: D:\\Data\\huggingface\\models\\openai-community\\openai-gpt2-small\n",
      "Number of parameters: 124,439,808\n"
     ]
    }
   ],
   "source": [
    "# Count the number of parameters: 124M\n",
    "num_params = sum(p.numel() for p in model.parameters())\n",
    "print(f\"Model: {model_name}\")\n",
    "print(f\"Number of parameters: {num_params:,}\")"
   ]
  },
  {
   "cell_type": "code",
   "execution_count": 5,
   "metadata": {},
   "outputs": [],
   "source": [
    "def show_tokens(input_text):\n",
    "    input_ids = tokenizer.encode(input_text, return_tensors=\"pt\").to(device)  # Move input to GPU/CPU\n",
    "\n",
    "    # Show input tokenization\n",
    "    input_token_ids = input_ids[0].tolist()  # Convert tensor to list of token IDs\n",
    "    input_tokens = [tokenizer.decode([token_id]) for token_id in input_token_ids]\n",
    "\n",
    "    print(f\"Input string: '{input_text}'\")\n",
    "    print(\"Tokenized into IDs:\", input_token_ids)\n",
    "    print(\"Decoded tokens:\", input_tokens)\n",
    "    print()\n",
    "\n",
    "    # Generate predictions\n",
    "    with torch.no_grad():\n",
    "        outputs = model(input_ids)\n",
    "        predictions = outputs.logits\n",
    "    \n",
    "    # Get the last token's predictions (logits for next token)\n",
    "    last_token_logits = predictions[0, -1, :]\n",
    "    \n",
    "    # Get top 10 predicted tokens\n",
    "    top_k = 10\n",
    "    top_token_ids = torch.topk(last_token_logits, top_k).indices\n",
    "    top_token_probs = torch.softmax(last_token_logits, dim=-1)[top_token_ids]\n",
    "    \n",
    "    # Decode tokens and prepare results\n",
    "    results = []\n",
    "    for token_id, prob in zip(top_token_ids, top_token_probs):\n",
    "        token = tokenizer.decode(token_id)\n",
    "        results.append((token_id.item(), token, prob.item()))\n",
    "    \n",
    "    # Print results\n",
    "    print(f\"Top {top_k} predicted token IDs following '{input_text}':\")\n",
    "    for i, (token_id, token, prob) in enumerate(results, 1):\n",
    "        print(f\"{i}. Token ID: {token_id:<5} Token: '{token:<10}' Probability: {prob:.4f}\")    "
   ]
  },
  {
   "cell_type": "code",
   "execution_count": 6,
   "metadata": {},
   "outputs": [
    {
     "name": "stdout",
     "output_type": "stream",
     "text": [
      "Input string: 'one, two, three,'\n",
      "Tokenized into IDs: [505, 11, 734, 11, 1115, 11]\n",
      "Decoded tokens: ['one', ',', ' two', ',', ' three', ',']\n",
      "\n",
      "Top 10 predicted token IDs following 'one, two, three,':\n",
      "1. Token ID: 1440  Token: ' four     ' Probability: 0.6087\n",
      "2. Token ID: 1936  Token: ' five     ' Probability: 0.0768\n",
      "3. Token ID: 290   Token: ' and      ' Probability: 0.0528\n",
      "4. Token ID: 2237  Token: ' six      ' Probability: 0.0349\n",
      "5. Token ID: 393   Token: ' or       ' Probability: 0.0273\n",
      "6. Token ID: 1115  Token: ' three    ' Probability: 0.0267\n",
      "7. Token ID: 734   Token: ' two      ' Probability: 0.0123\n",
      "8. Token ID: 3624  Token: ' eight    ' Probability: 0.0093\n",
      "9. Token ID: 530   Token: ' one      ' Probability: 0.0088\n",
      "10. Token ID: 257   Token: ' a        ' Probability: 0.0083\n"
     ]
    },
    {
     "name": "stderr",
     "output_type": "stream",
     "text": [
      "D:\\Python\\OpenAILangChain\\lib\\site-packages\\transformers\\models\\gpt2\\modeling_gpt2.py:545: UserWarning: 1Torch was not compiled with flash attention. (Triggered internally at ..\\aten\\src\\ATen\\native\\transformers\\cuda\\sdp_utils.cpp:263.)\n",
      "  attn_output = torch.nn.functional.scaled_dot_product_attention(\n"
     ]
    }
   ],
   "source": [
    "# Input sequence\n",
    "input_text = \"one, two, three,\"\n",
    "show_tokens(input_text)"
   ]
  },
  {
   "cell_type": "markdown",
   "metadata": {},
   "source": [
    "The difference in how \"one\", \" two\", and \" three\" are tokenized—with spaces before \" two\" and \" three\" but not \"one\"—is a result of how `GPT-2’s Byte-Pair Encoding (BPE)` tokenizer works. \" two\" <> \"two\""
   ]
  },
  {
   "cell_type": "code",
   "execution_count": 8,
   "metadata": {},
   "outputs": [
    {
     "name": "stdout",
     "output_type": "stream",
     "text": [
      "Word: 'one' → Token ID: 505 → Decoded: 'one'\n",
      "Word: 'two' → Token ID: 11545 → Decoded: 'two'\n",
      "Word: ' two' → Token ID: 734 → Decoded: ' two'\n",
      "Word: 'two,' → Token ID: 11545 → Decoded: 'two'\n"
     ]
    }
   ],
   "source": [
    "# Test individual words\n",
    "for word in [\"one\", \"two\", \" two\", \"two,\"]:\n",
    "    token_ids = tokenizer.encode(word)\n",
    "    decoded = tokenizer.decode(token_ids[0])\n",
    "    print(f\"Word: '{word}' → Token ID: {token_ids[0]} → Decoded: '{decoded}'\")"
   ]
  },
  {
   "cell_type": "markdown",
   "metadata": {},
   "source": [
    "* tokenizer.encode(\"one\") → [505] (no space)\n",
    "* tokenizer.encode(\"two\") → [11545] (no space, a different token ID)\n",
    "* tokenizer.encode(\" two\") → [734] (with space)\n",
    "* tokenizer.encode(\"two\") → [11545] (with comma)"
   ]
  },
  {
   "cell_type": "markdown",
   "metadata": {},
   "source": [
    "## Cleanup"
   ]
  },
  {
   "cell_type": "code",
   "execution_count": 9,
   "metadata": {},
   "outputs": [],
   "source": [
    "import gc  # Garbage collection module"
   ]
  },
  {
   "cell_type": "code",
   "execution_count": 10,
   "metadata": {},
   "outputs": [],
   "source": [
    "# Function to clean up memory\n",
    "def cleanup_torch():\n",
    "    # Clear GPU cache if using CUDA\n",
    "    if torch.cuda.is_available():\n",
    "        torch.cuda.empty_cache()\n",
    "        torch.cuda.ipc_collect()  # Collect inter-process communication memory\n",
    "    \n",
    "    # Force garbage collection for CPU RAM\n",
    "    gc.collect()"
   ]
  },
  {
   "cell_type": "code",
   "execution_count": 11,
   "metadata": {},
   "outputs": [],
   "source": [
    "# Explicitly delete large objects\n",
    "del model\n",
    "del tokenizer"
   ]
  },
  {
   "cell_type": "code",
   "execution_count": 12,
   "metadata": {},
   "outputs": [
    {
     "name": "stdout",
     "output_type": "stream",
     "text": [
      "\n",
      "Memory cleanup completed.\n"
     ]
    }
   ],
   "source": [
    "# Clean up memory\n",
    "cleanup_torch()\n",
    "\n",
    "print(\"\\nMemory cleanup completed.\")"
   ]
  },
  {
   "cell_type": "markdown",
   "metadata": {},
   "source": [
    "## gpt-large\n",
    "\n",
    "https://huggingface.co/openai-community/gpt2-large"
   ]
  },
  {
   "cell_type": "code",
   "execution_count": 13,
   "metadata": {},
   "outputs": [],
   "source": [
    "from transformers import GPT2LMHeadModel, GPT2Tokenizer\n",
    "\n",
    "# Load pre-trained GPT-2 model and tokenizer\n",
    "model_name = r\"D:\\Data\\huggingface\\models\\openai-community\\openai-gpt2-large\"\n",
    "tokenizer = GPT2Tokenizer.from_pretrained(model_name)\n",
    "model = GPT2LMHeadModel.from_pretrained(model_name).to(device)\n",
    "model.eval();"
   ]
  },
  {
   "cell_type": "code",
   "execution_count": 14,
   "metadata": {},
   "outputs": [
    {
     "name": "stdout",
     "output_type": "stream",
     "text": [
      "Model: D:\\Data\\huggingface\\models\\openai-community\\openai-gpt2-large\n",
      "Number of parameters: 774,030,080\n"
     ]
    }
   ],
   "source": [
    "# Count the number of parameters: 774M\n",
    "num_params = sum(p.numel() for p in model.parameters())\n",
    "print(f\"Model: {model_name}\")\n",
    "print(f\"Number of parameters: {num_params:,}\")"
   ]
  },
  {
   "cell_type": "code",
   "execution_count": 15,
   "metadata": {},
   "outputs": [
    {
     "name": "stdout",
     "output_type": "stream",
     "text": [
      "Input string: 'one, two, three,'\n",
      "Tokenized into IDs: [505, 11, 734, 11, 1115, 11]\n",
      "Decoded tokens: ['one', ',', ' two', ',', ' three', ',']\n",
      "\n",
      "Top 10 predicted token IDs following 'one, two, three,':\n",
      "1. Token ID: 1440  Token: ' four     ' Probability: 0.5132\n",
      "2. Token ID: 393   Token: ' or       ' Probability: 0.0905\n",
      "3. Token ID: 290   Token: ' and      ' Probability: 0.0767\n",
      "4. Token ID: 3503  Token: ' etc      ' Probability: 0.0442\n",
      "5. Token ID: 1936  Token: ' five     ' Probability: 0.0170\n",
      "6. Token ID: 530   Token: ' one      ' Probability: 0.0074\n",
      "7. Token ID: 772   Token: ' even     ' Probability: 0.0070\n",
      "8. Token ID: 257   Token: ' a        ' Probability: 0.0057\n",
      "9. Token ID: 734   Token: ' two      ' Probability: 0.0054\n",
      "10. Token ID: 2237  Token: ' six      ' Probability: 0.0053\n"
     ]
    }
   ],
   "source": [
    "# Input sequence\n",
    "input_text = \"one, two, three,\"\n",
    "show_tokens(input_text)"
   ]
  },
  {
   "cell_type": "raw",
   "metadata": {},
   "source": [
    "Top 10 predicted token IDs following 'one, two, three,':\n",
    "1. Token ID: 1440  Token: ' four     ' Probability: 0.6087\n",
    "2. Token ID: 1936  Token: ' five     ' Probability: 0.0768\n",
    "3. Token ID: 290   Token: ' and      ' Probability: 0.0528\n",
    "4. Token ID: 2237  Token: ' six      ' Probability: 0.0349\n",
    "5. Token ID: 393   Token: ' or       ' Probability: 0.0273\n",
    "6. Token ID: 1115  Token: ' three    ' Probability: 0.0267\n",
    "7. Token ID: 734   Token: ' two      ' Probability: 0.0123\n",
    "8. Token ID: 3624  Token: ' eight    ' Probability: 0.0093\n",
    "9. Token ID: 530   Token: ' one      ' Probability: 0.0088\n",
    "10. Token ID: 257   Token: ' a        ' Probability: 0.0083"
   ]
  },
  {
   "cell_type": "markdown",
   "metadata": {},
   "source": [
    "## How did language models go from predicting the next word token to answering long, complex prompts? \n",
    "\n",
    "Read: https://www.reddit.com/r/learnmachinelearning/comments/17gd8mi/how_did_language_models_go_from_predicting_the/"
   ]
  },
  {
   "cell_type": "markdown",
   "metadata": {},
   "source": [
    "I would argue the exact moment instructGPT (https://arxiv.org/abs/2203.02155) was introduced....\n",
    "\n",
    " This is the backbone of GPT 3.5 (aka ChatGPT). It's a multi-stage process, but the gist of it this:\n",
    "\n",
    "    * the raw next-token predictor (GPT 3) outputs multiple answers for each question in a database\n",
    "\n",
    "    * for each question, humans rank the answers\n",
    "\n",
    "    * GPT 3 is fine-tuned to prefer the higher-ranked answers.\n",
    "\n",
    "This technique is called RLHF (Reinforcement Learning from Human Feedback).\n",
    "\n",
    "I also think this is the main differentiator between transformers which did <mark>\"just next-token prediction\" (eg the GPT 1,2,3)</mark> and the <mark>\"conversational models\" (eg. GPT 3.5, 4, Claude)</mark> you can see now."
   ]
  },
  {
   "cell_type": "markdown",
   "metadata": {},
   "source": [
    "## GPT-neo"
   ]
  },
  {
   "cell_type": "code",
   "execution_count": 17,
   "metadata": {},
   "outputs": [],
   "source": [
    "from transformers import GPTNeoForCausalLM, GPT2Tokenizer  # Note: GPT-Neo uses GPT2Tokenizer"
   ]
  },
  {
   "cell_type": "code",
   "execution_count": 18,
   "metadata": {},
   "outputs": [],
   "source": [
    "# Explicitly delete large objects\n",
    "del model\n",
    "del tokenizer"
   ]
  },
  {
   "cell_type": "code",
   "execution_count": 19,
   "metadata": {},
   "outputs": [
    {
     "name": "stdout",
     "output_type": "stream",
     "text": [
      "\n",
      "Memory cleanup completed.\n"
     ]
    }
   ],
   "source": [
    "# Clean up memory\n",
    "cleanup_torch()\n",
    "print(\"\\nMemory cleanup completed.\")"
   ]
  },
  {
   "cell_type": "code",
   "execution_count": 20,
   "metadata": {},
   "outputs": [],
   "source": [
    "# Function to get GPU memory usage\n",
    "def get_gpu_memory():\n",
    "    return torch.cuda.memory_allocated() / 1024**2, torch.cuda.max_memory_allocated() / 1024**2"
   ]
  },
  {
   "cell_type": "code",
   "execution_count": 21,
   "metadata": {},
   "outputs": [
    {
     "name": "stdout",
     "output_type": "stream",
     "text": [
      "Initial GPU memory used: 8.75 MB, Peak: 3074.67 MB\n"
     ]
    }
   ],
   "source": [
    "initial_used, initial_peak = get_gpu_memory()\n",
    "print(f\"Initial GPU memory used: {initial_used:.2f} MB, Peak: {initial_peak:.2f} MB\")"
   ]
  },
  {
   "cell_type": "code",
   "execution_count": 22,
   "metadata": {},
   "outputs": [],
   "source": [
    "# loads a 11GB file, be patient...\n",
    "\n",
    "#model_name = r\"D:\\Data\\huggingface\\models\\EleutherAI\\gpt-neo-2.7B\"\n",
    "model_name = r\"C:\\models\\EleutherAI\\gpt-neo-2.7B\"\n",
    "tokenizer = GPT2Tokenizer.from_pretrained(model_name)\n",
    "model = GPTNeoForCausalLM.from_pretrained(model_name).to(device)\n",
    "model.eval();"
   ]
  },
  {
   "cell_type": "code",
   "execution_count": 23,
   "metadata": {},
   "outputs": [
    {
     "name": "stdout",
     "output_type": "stream",
     "text": [
      "GPU memory used after loading model: 10378.70 MB, Peak: 10378.70 MB\n"
     ]
    }
   ],
   "source": [
    "# GPU Memory usage after loading model: 10GB!!!\n",
    "model_loaded_used, model_loaded_peak = get_gpu_memory()\n",
    "print(f\"GPU memory used after loading model: {model_loaded_used:.2f} MB, Peak: {model_loaded_peak:.2f} MB\")"
   ]
  },
  {
   "cell_type": "code",
   "execution_count": 24,
   "metadata": {},
   "outputs": [
    {
     "name": "stdout",
     "output_type": "stream",
     "text": [
      "Model: C:\\models\\EleutherAI\\gpt-neo-2.7B\n",
      "Number of parameters: 2,651,307,520\n"
     ]
    }
   ],
   "source": [
    "# Count the number of parameters: 2.6B\n",
    "num_params = sum(p.numel() for p in model.parameters())\n",
    "print(f\"Model: {model_name}\")\n",
    "print(f\"Number of parameters: {num_params:,}\")"
   ]
  },
  {
   "cell_type": "code",
   "execution_count": 27,
   "metadata": {},
   "outputs": [
    {
     "name": "stdout",
     "output_type": "stream",
     "text": [
      "Input string: 'one, two, three, five,'\n",
      "Tokenized into IDs: [505, 11, 734, 11, 1115, 11, 1936, 11]\n",
      "Decoded tokens: ['one', ',', ' two', ',', ' three', ',', ' five', ',']\n",
      "\n",
      "Top 10 predicted token IDs following 'one, two, three, five,':\n",
      "1. Token ID: 3598  Token: ' seven    ' Probability: 0.3162\n",
      "2. Token ID: 2237  Token: ' six      ' Probability: 0.2400\n",
      "3. Token ID: 290   Token: ' and      ' Probability: 0.1036\n",
      "4. Token ID: 3478  Token: ' ten      ' Probability: 0.0566\n",
      "5. Token ID: 3624  Token: ' eight    ' Probability: 0.0471\n",
      "6. Token ID: 393   Token: ' or       ' Probability: 0.0396\n",
      "7. Token ID: 530   Token: ' one      ' Probability: 0.0277\n",
      "8. Token ID: 3503  Token: ' etc      ' Probability: 0.0229\n",
      "9. Token ID: 5193  Token: ' nine     ' Probability: 0.0172\n",
      "10. Token ID: 1440  Token: ' four     ' Probability: 0.0118\n"
     ]
    }
   ],
   "source": [
    "# Input sequence\n",
    "input_text = \"one, two, three, five,\"\n",
    "show_tokens(input_text)"
   ]
  },
  {
   "cell_type": "markdown",
   "metadata": {},
   "source": [
    "### Generate Text Instead of Just Predicting Tokens"
   ]
  },
  {
   "cell_type": "code",
   "execution_count": 28,
   "metadata": {},
   "outputs": [
    {
     "name": "stderr",
     "output_type": "stream",
     "text": [
      "The attention mask and the pad token id were not set. As a consequence, you may observe unexpected behavior. Please pass your input's `attention_mask` to obtain reliable results.\n",
      "Setting `pad_token_id` to `eos_token_id`:None for open-end generation.\n",
      "The attention mask is not set and cannot be inferred from input because pad token is same as eos token. As a consequence, you may observe unexpected behavior. Please pass your input's `attention_mask` to obtain reliable results.\n"
     ]
    },
    {
     "name": "stdout",
     "output_type": "stream",
     "text": [
      "Generated text: 'one, two, three, four, five, six, seven, eight, nine, ten,'\n"
     ]
    }
   ],
   "source": [
    "# After loading model and tokenizing input\n",
    "model.to(\"cuda\")\n",
    "input_ids = tokenizer.encode(\"one, two, three,\", return_tensors=\"pt\").to(\"cuda\")\n",
    "\n",
    "# Generate text\n",
    "with torch.no_grad():\n",
    "    output_ids = model.generate(\n",
    "        input_ids,\n",
    "        max_length=20,  # Total tokens (input + generated)\n",
    "        do_sample=True,  # Random sampling for variety\n",
    "        top_k=50,        # Consider top 50 tokens\n",
    "        temperature=0.1  # Control randomness (0.1 very strict)\n",
    "    )\n",
    "generated_text = tokenizer.decode(output_ids[0], skip_special_tokens=True)\n",
    "print(f\"Generated text: '{generated_text}'\")"
   ]
  },
  {
   "cell_type": "markdown",
   "metadata": {},
   "source": [
    "### Visualize Token Probability Distribution"
   ]
  },
  {
   "cell_type": "code",
   "execution_count": 38,
   "metadata": {},
   "outputs": [
    {
     "data": {
      "image/png": "[encoded data removed]",
      "text/plain": [
       "<Figure size 640x480 with 1 Axes>"
      ]
     },
     "metadata": {},
     "output_type": "display_data"
    }
   ],
   "source": [
    "import matplotlib.pyplot as plt\n",
    "\n",
    "model.to(\"cuda\")\n",
    "input_ids = tokenizer.encode(\"one, two, three,\", return_tensors=\"pt\").to(\"cuda\")\n",
    "with torch.no_grad():\n",
    "    predictions = model(input_ids).logits[0, -1, :]\n",
    "probs = torch.softmax(predictions, dim=-1)\n",
    "top_k = 15\n",
    "top_vals, top_ids = torch.topk(probs, top_k)\n",
    "\n",
    "# Plot\n",
    "plt.bar(range(top_k), top_vals.cpu().numpy())\n",
    "plt.xticks(range(top_k), [tokenizer.decode([tid]) for tid in top_ids], rotation=90)\n",
    "plt.xlabel(\"Tokens\")\n",
    "plt.ylabel(\"Probability\")\n",
    "plt.title(f\"Top {top_k} Token Probabilities\")\n",
    "plt.tight_layout()\n",
    "plt.show()"
   ]
  },
  {
   "cell_type": "markdown",
   "metadata": {},
   "source": [
    "### Measure Inference Speed (across batches)"
   ]
  },
  {
   "cell_type": "code",
   "execution_count": 32,
   "metadata": {},
   "outputs": [
    {
     "name": "stdout",
     "output_type": "stream",
     "text": [
      "Batch size 1: 0.2472 seconds (4.05 sequences/sec)\n",
      "Batch size 4: 0.0542 seconds (73.85 sequences/sec)\n",
      "Batch size 8: 0.0290 seconds (275.84 sequences/sec)\n",
      "Batch size 16: 0.0311 seconds (513.82 sequences/sec)\n"
     ]
    }
   ],
   "source": [
    "import time\n",
    "\n",
    "model.to(\"cuda\")\n",
    "batch_sizes = [1, 4, 8, 16]\n",
    "\n",
    "for bs in batch_sizes:\n",
    "    input_ids = tokenizer.encode(\"one, two, three,\", return_tensors=\"pt\").repeat(bs, 1).to(\"cuda\")\n",
    "    start = time.time()\n",
    "    with torch.no_grad():\n",
    "        model(input_ids)\n",
    "        \n",
    "    elapsed = time.time() - start\n",
    "    print(f\"Batch size {bs}: {elapsed:.4f} seconds ({bs/elapsed:.2f} sequences/sec)\")"
   ]
  },
  {
   "cell_type": "markdown",
   "metadata": {},
   "source": [
    "### Explore Attention Weights"
   ]
  },
  {
   "cell_type": "markdown",
   "metadata": {},
   "source": [
    "What This Does\n",
    "\n",
    "    Sliding Window:\n",
    "        Takes 3-token chunks: \"one, two\", \"two, three\", \"three,\".\n",
    "        For each window, it runs the model to get attention weights and the top predicted token.\n",
    "    Attention Extraction:\n",
    "        outputs.attentions[-1] grabs the last layer’s attention (most meaningful for final predictions).\n",
    "        [0, -1, :, -1] gets the attention scores for the last token in the window predicting the next one.\n",
    "    Comparison:\n",
    "        Also shows attention for the full sequence (\"one, two, three,\")"
   ]
  },
  {
   "cell_type": "code",
   "execution_count": 33,
   "metadata": {},
   "outputs": [
    {
     "name": "stdout",
     "output_type": "stream",
     "text": [
      "tensor([[ 505,   11,  734,   11, 1115,   11]], device='cuda:0')\n",
      "['one', ',', ' two', ',', ' three', ',']\n",
      "***************************************************************************\n",
      "Attention tensor shape: torch.Size([1, 20, 6, 6])\n",
      "\n",
      "Full sequence: one, two, three,\n",
      "Attention weights:\n",
      "  'one       ': 0.6749\n",
      "  ',         ': 0.0093\n",
      "  ' two      ': 0.0133\n",
      "  ',         ': 0.0240\n",
      "  ' three    ': 0.0187\n",
      "  ',         ': 0.2599\n",
      "Sum of attention weights: 1.0000\n",
      "last_token_attention.sum() should be close to 1, confirming proper normalization.\n"
     ]
    }
   ],
   "source": [
    "# Input sequence\n",
    "input_text = \"one, two, three,\"\n",
    "input_ids = tokenizer.encode(input_text, return_tensors=\"pt\").to(\"cuda\")\n",
    "tokens = [tokenizer.decode([tid]) for tid in input_ids[0]]\n",
    "print(input_ids)\n",
    "print(tokens)\n",
    "print(75*'*')\n",
    "\n",
    "# Full sequence attention\n",
    "with torch.no_grad():\n",
    "    outputs = model(input_ids, output_attentions=True)\n",
    "    attentions = outputs.attentions[-1]  # Last layer's attention\n",
    "    print(f\"Attention tensor shape: {attentions.shape}\")  # Debug shape\n",
    "\n",
    "    # Average across all attention heads for the last token's attention\n",
    "    last_token_attention = attentions[0, :, -1, :].mean(dim=0)  # [batch, heads, query, key] -> mean over heads\n",
    "\n",
    "# Print full sequence attention\n",
    "print(f\"\\nFull sequence: {input_text}\")\n",
    "print(\"Attention weights:\")\n",
    "for token, attn in zip(tokens, last_token_attention):\n",
    "    print(f\"  '{token:<10}': {attn.item():.4f}\")\n",
    "print(f\"Sum of attention weights: {last_token_attention.sum().item():.4f}\")\n",
    "print(\"last_token_attention.sum() should be close to 1, confirming proper normalization.\")"
   ]
  },
  {
   "cell_type": "raw",
   "metadata": {},
   "source": [
    "Attention tensor shape: torch.Size([1, 20, 6, 6])\n",
    "\n",
    "That means:\n",
    "\n",
    "        1 batch\n",
    "\n",
    "        20 attention heads\n",
    "\n",
    "        6 tokens in the input\n",
    "\n",
    "        Each head assigns weights over the 6 tokens (self-attention)."
   ]
  },
  {
   "cell_type": "raw",
   "metadata": {},
   "source": [
    "For the full sequence \"one, two, three,\", it shows how much attention the model gives to each previous token when processing the last token (in this case, the final comma).\n",
    "\n",
    "Highest attention: \"one\" (0.6749) and the last comma (0.2599).\n",
    "\n",
    "This suggests the model is strongly attending back to the start of the list, possibly because it's learning the pattern of a list."
   ]
  },
  {
   "cell_type": "code",
   "execution_count": 34,
   "metadata": {},
   "outputs": [
    {
     "name": "stdout",
     "output_type": "stream",
     "text": [
      "\n",
      "Window 1: one ,  two\n",
      "Attention weights:\n",
      "  'one       ': 0.6900\n",
      "  ',         ': 0.0042\n",
      "  ' two      ': 0.3058\n",
      "Predicted next token: ','\n",
      "Sum of attention weights: 1.0000\n",
      "last_token_attention.sum() should be close to 1, confirming proper normalization.\n",
      "\n",
      "Window 2: ,  two ,\n",
      "Attention weights:\n",
      "  ',         ': 0.6890\n",
      "  ' two      ': 0.0468\n",
      "  ',         ': 0.2642\n",
      "Predicted next token: ' three'\n",
      "Sum of attention weights: 1.0000\n",
      "last_token_attention.sum() should be close to 1, confirming proper normalization.\n",
      "\n",
      "Window 3:  two ,  three\n",
      "Attention weights:\n",
      "  ' two      ': 0.6926\n",
      "  ',         ': 0.0126\n",
      "  ' three    ': 0.2948\n",
      "Predicted next token: ','\n",
      "Sum of attention weights: 1.0000\n",
      "last_token_attention.sum() should be close to 1, confirming proper normalization.\n",
      "\n",
      "Window 4: ,  three ,\n",
      "Attention weights:\n",
      "  ',         ': 0.6947\n",
      "  ' three    ': 0.0492\n",
      "  ',         ': 0.2562\n",
      "Predicted next token: ' four'\n",
      "Sum of attention weights: 1.0000\n",
      "last_token_attention.sum() should be close to 1, confirming proper normalization.\n"
     ]
    }
   ],
   "source": [
    "# Slide a 3-token window and analyze attention\n",
    "window_size = 3\n",
    "for i in range(len(input_ids[0]) - window_size + 1):\n",
    "    window_ids = input_ids[:, i:i + window_size]\n",
    "    window_tokens = tokens[i:i + window_size]\n",
    "    \n",
    "    with torch.no_grad():\n",
    "        outputs = model(window_ids, output_attentions=True)\n",
    "        attentions = outputs.attentions[-1]\n",
    "        last_token_attention = attentions[0, :, -1, :].mean(dim=0)\n",
    "    \n",
    "    top_id = torch.argmax(outputs.logits[0, -1, :]).item()\n",
    "    top_token = tokenizer.decode(top_id)\n",
    "    \n",
    "    print(f\"\\nWindow {i + 1}: {' '.join(window_tokens)}\")\n",
    "    print(\"Attention weights:\")\n",
    "    for token, attn in zip(window_tokens, last_token_attention):\n",
    "        print(f\"  '{token:<10}': {attn.item():.4f}\")\n",
    "    print(f\"Predicted next token: '{top_token}'\")\n",
    "    print(f\"Sum of attention weights: {last_token_attention.sum().item():.4f}\")\n",
    "    print(\"last_token_attention.sum() should be close to 1, confirming proper normalization.\")"
   ]
  },
  {
   "cell_type": "raw",
   "metadata": {},
   "source": [
    "Sliding Attention Windows -> Each \"Window\" shows a chunk of the input the model sees when predicting the next token.\n",
    "\n",
    "Window 1: one , two\n",
    "\n",
    "    The model pays most attention to \"one\" (0.6900) and \"two\" (0.3058).\n",
    "    It predicts the next token is \",\", which is correct for a list.\n",
    "\n",
    "Window 2: , two ,\n",
    "\n",
    "    The commas dominate attention here (0.6899 and 0.2642), with \"two\" getting very little (0.0468).\n",
    "    The next token is predicted as \"three\", again continuing the list pattern.\n",
    "\n",
    "Window 3: two , three\n",
    "\n",
    "    The model mostly attends to \"two\" (0.6926) and \"three\" (0.2948).\n",
    "    It predicts another comma, keeping with the list rhythm.\n",
    "\n",
    "Window 4: , three ,\n",
    "\n",
    "    Similar to Window 2, commas get the highest weights.\n",
    "    The predicted next token is \"four\", which follows logically in a list."
   ]
  },
  {
   "cell_type": "raw",
   "metadata": {},
   "source": [
    "### TAKE AWAY FROM THIS: ####\n",
    "\n",
    "Self-attention helps the model look back at relevant tokens. In a list like \"one, two, three,\", the model learns to alternate between words and commas and uses attention to track the structure of the sequence. The highest weights often fall on the items directly relevant for predicting the next item in the pattern."
   ]
  },
  {
   "cell_type": "raw",
   "metadata": {},
   "source": [
    "~Eof"
   ]
  }
 ],
 "metadata": {
  "kernelspec": {
   "display_name": "OpenAILangChain",
   "language": "python",
   "name": "openailangchain"
  },
  "language_info": {
   "codemirror_mode": {
    "name": "ipython",
    "version": 3
   },
   "file_extension": ".py",
   "mimetype": "text/x-python",
   "name": "python",
   "nbconvert_exporter": "python",
   "pygments_lexer": "ipython3",
   "version": "3.10.11"
  },
  "toc-autonumbering": true
 },
 "nbformat": 4,
 "nbformat_minor": 4
}
